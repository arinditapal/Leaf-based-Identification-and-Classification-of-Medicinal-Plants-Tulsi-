{
 "cells": [
  {
   "cell_type": "code",
   "execution_count": 1,
   "id": "660a1df5",
   "metadata": {},
   "outputs": [],
   "source": [
    "import pandas as pd\n",
    "import numpy as np\n",
    "from sklearn.decomposition import PCA\n",
    "from sklearn import preprocessing\n",
    "import matplotlib.pyplot as plt"
   ]
  },
  {
   "cell_type": "code",
   "execution_count": 2,
   "id": "24b3db43",
   "metadata": {},
   "outputs": [],
   "source": [
    "# genes are features/ columns\n",
    "# wt, ko are the samples/ rows/ leaf\n",
    "# genes are in row\n",
    "# wt followed by ko are sample represented as columns"
   ]
  },
  {
   "cell_type": "code",
   "execution_count": 24,
   "id": "94134f3f",
   "metadata": {},
   "outputs": [
    {
     "data": {
      "text/html": [
       "<div>\n",
       "<style scoped>\n",
       "    .dataframe tbody tr th:only-of-type {\n",
       "        vertical-align: middle;\n",
       "    }\n",
       "\n",
       "    .dataframe tbody tr th {\n",
       "        vertical-align: top;\n",
       "    }\n",
       "\n",
       "    .dataframe thead th {\n",
       "        text-align: right;\n",
       "    }\n",
       "</style>\n",
       "<table border=\"1\" class=\"dataframe\">\n",
       "  <thead>\n",
       "    <tr style=\"text-align: right;\">\n",
       "      <th></th>\n",
       "      <th>green_color</th>\n",
       "      <th>brown_color</th>\n",
       "      <th>green_to_brown_ratio</th>\n",
       "      <th>perimeter_to_area_ratio</th>\n",
       "      <th>solidity</th>\n",
       "      <th>roundness</th>\n",
       "      <th>aspect_ratio</th>\n",
       "      <th>corr_1</th>\n",
       "      <th>dis_sim_1</th>\n",
       "      <th>homogen_1</th>\n",
       "      <th>...</th>\n",
       "      <th>corr_5</th>\n",
       "      <th>dis_sim_5</th>\n",
       "      <th>homogen_5</th>\n",
       "      <th>contrast_5</th>\n",
       "      <th>energy_5</th>\n",
       "      <th>corr_6</th>\n",
       "      <th>dis_sim_6</th>\n",
       "      <th>homogen_6</th>\n",
       "      <th>contrast_6</th>\n",
       "      <th>energy_6</th>\n",
       "    </tr>\n",
       "  </thead>\n",
       "  <tbody>\n",
       "    <tr>\n",
       "      <th>0</th>\n",
       "      <td>2.066458</td>\n",
       "      <td>0.494136</td>\n",
       "      <td>4.181965</td>\n",
       "      <td>0.025388</td>\n",
       "      <td>0.864022</td>\n",
       "      <td>0.156837</td>\n",
       "      <td>1.532847</td>\n",
       "      <td>0.991155</td>\n",
       "      <td>1.040234</td>\n",
       "      <td>0.808449</td>\n",
       "      <td>...</td>\n",
       "      <td>0.969483</td>\n",
       "      <td>2.320747</td>\n",
       "      <td>0.756454</td>\n",
       "      <td>104.026823</td>\n",
       "      <td>0.684005</td>\n",
       "      <td>0.944653</td>\n",
       "      <td>3.464212</td>\n",
       "      <td>0.737449</td>\n",
       "      <td>189.394100</td>\n",
       "      <td>0.679623</td>\n",
       "    </tr>\n",
       "    <tr>\n",
       "      <th>1</th>\n",
       "      <td>4.240871</td>\n",
       "      <td>2.100950</td>\n",
       "      <td>2.018550</td>\n",
       "      <td>0.033033</td>\n",
       "      <td>0.912588</td>\n",
       "      <td>0.137574</td>\n",
       "      <td>1.828257</td>\n",
       "      <td>0.986440</td>\n",
       "      <td>0.821381</td>\n",
       "      <td>0.864660</td>\n",
       "      <td>...</td>\n",
       "      <td>0.955035</td>\n",
       "      <td>2.000742</td>\n",
       "      <td>0.827913</td>\n",
       "      <td>96.156091</td>\n",
       "      <td>0.785804</td>\n",
       "      <td>0.921941</td>\n",
       "      <td>3.001918</td>\n",
       "      <td>0.814722</td>\n",
       "      <td>167.736180</td>\n",
       "      <td>0.782390</td>\n",
       "    </tr>\n",
       "    <tr>\n",
       "      <th>2</th>\n",
       "      <td>0.000000</td>\n",
       "      <td>1.890563</td>\n",
       "      <td>0.000000</td>\n",
       "      <td>0.028565</td>\n",
       "      <td>0.916065</td>\n",
       "      <td>0.144819</td>\n",
       "      <td>1.727595</td>\n",
       "      <td>0.988639</td>\n",
       "      <td>0.886429</td>\n",
       "      <td>0.848490</td>\n",
       "      <td>...</td>\n",
       "      <td>0.957890</td>\n",
       "      <td>2.420038</td>\n",
       "      <td>0.788751</td>\n",
       "      <td>112.165658</td>\n",
       "      <td>0.729180</td>\n",
       "      <td>0.917281</td>\n",
       "      <td>4.132318</td>\n",
       "      <td>0.766081</td>\n",
       "      <td>221.288339</td>\n",
       "      <td>0.724933</td>\n",
       "    </tr>\n",
       "    <tr>\n",
       "      <th>3</th>\n",
       "      <td>59.205965</td>\n",
       "      <td>0.000000</td>\n",
       "      <td>0.000000</td>\n",
       "      <td>0.037495</td>\n",
       "      <td>0.916482</td>\n",
       "      <td>0.163614</td>\n",
       "      <td>1.156194</td>\n",
       "      <td>0.982857</td>\n",
       "      <td>0.264862</td>\n",
       "      <td>0.951205</td>\n",
       "      <td>...</td>\n",
       "      <td>0.957897</td>\n",
       "      <td>0.589430</td>\n",
       "      <td>0.920867</td>\n",
       "      <td>27.277081</td>\n",
       "      <td>0.860289</td>\n",
       "      <td>0.927780</td>\n",
       "      <td>0.976415</td>\n",
       "      <td>0.904566</td>\n",
       "      <td>47.041172</td>\n",
       "      <td>0.857848</td>\n",
       "    </tr>\n",
       "    <tr>\n",
       "      <th>4</th>\n",
       "      <td>52.398090</td>\n",
       "      <td>0.000000</td>\n",
       "      <td>0.000000</td>\n",
       "      <td>0.026012</td>\n",
       "      <td>0.931384</td>\n",
       "      <td>0.140640</td>\n",
       "      <td>1.136608</td>\n",
       "      <td>0.985517</td>\n",
       "      <td>1.431631</td>\n",
       "      <td>0.768274</td>\n",
       "      <td>...</td>\n",
       "      <td>0.952603</td>\n",
       "      <td>3.266384</td>\n",
       "      <td>0.718425</td>\n",
       "      <td>103.411587</td>\n",
       "      <td>0.666671</td>\n",
       "      <td>0.921935</td>\n",
       "      <td>4.480821</td>\n",
       "      <td>0.702661</td>\n",
       "      <td>170.947475</td>\n",
       "      <td>0.662309</td>\n",
       "    </tr>\n",
       "  </tbody>\n",
       "</table>\n",
       "<p>5 rows × 37 columns</p>\n",
       "</div>"
      ],
      "text/plain": [
       "   green_color  brown_color  green_to_brown_ratio  perimeter_to_area_ratio  \\\n",
       "0     2.066458     0.494136              4.181965                 0.025388   \n",
       "1     4.240871     2.100950              2.018550                 0.033033   \n",
       "2     0.000000     1.890563              0.000000                 0.028565   \n",
       "3    59.205965     0.000000              0.000000                 0.037495   \n",
       "4    52.398090     0.000000              0.000000                 0.026012   \n",
       "\n",
       "   solidity  roundness  aspect_ratio    corr_1  dis_sim_1  homogen_1  ...  \\\n",
       "0  0.864022   0.156837      1.532847  0.991155   1.040234   0.808449  ...   \n",
       "1  0.912588   0.137574      1.828257  0.986440   0.821381   0.864660  ...   \n",
       "2  0.916065   0.144819      1.727595  0.988639   0.886429   0.848490  ...   \n",
       "3  0.916482   0.163614      1.156194  0.982857   0.264862   0.951205  ...   \n",
       "4  0.931384   0.140640      1.136608  0.985517   1.431631   0.768274  ...   \n",
       "\n",
       "     corr_5  dis_sim_5  homogen_5  contrast_5  energy_5    corr_6  dis_sim_6  \\\n",
       "0  0.969483   2.320747   0.756454  104.026823  0.684005  0.944653   3.464212   \n",
       "1  0.955035   2.000742   0.827913   96.156091  0.785804  0.921941   3.001918   \n",
       "2  0.957890   2.420038   0.788751  112.165658  0.729180  0.917281   4.132318   \n",
       "3  0.957897   0.589430   0.920867   27.277081  0.860289  0.927780   0.976415   \n",
       "4  0.952603   3.266384   0.718425  103.411587  0.666671  0.921935   4.480821   \n",
       "\n",
       "   homogen_6  contrast_6  energy_6  \n",
       "0   0.737449  189.394100  0.679623  \n",
       "1   0.814722  167.736180  0.782390  \n",
       "2   0.766081  221.288339  0.724933  \n",
       "3   0.904566   47.041172  0.857848  \n",
       "4   0.702661  170.947475  0.662309  \n",
       "\n",
       "[5 rows x 37 columns]"
      ]
     },
     "execution_count": 24,
     "metadata": {},
     "output_type": "execute_result"
    }
   ],
   "source": [
    "data = pd.read_csv(\"basil_dataset.csv\")\n",
    "\n",
    "indexs = data[\"label\"]\n",
    "\n",
    "data = data.drop([\"category\", \"image_name\", \"label\"], axis = 1)\n",
    "\n",
    "for i in range(7, len(data.columns)):\n",
    "    col = data.columns[i]\n",
    "\n",
    "    content_list = [] \n",
    "    for content in data[col]:\n",
    "        content = float(content[4: len(content) - 1])\n",
    "        content_list.append(content)\n",
    "\n",
    "    data[col] = pd.DataFrame(content_list)\n",
    "        \n",
    "\n",
    "data.head()"
   ]
  },
  {
   "cell_type": "code",
   "execution_count": 25,
   "id": "f45ce60a",
   "metadata": {},
   "outputs": [
    {
     "data": {
      "text/plain": [
       "(928, 37)"
      ]
     },
     "execution_count": 25,
     "metadata": {},
     "output_type": "execute_result"
    }
   ],
   "source": [
    "data.shape"
   ]
  },
  {
   "cell_type": "code",
   "execution_count": 26,
   "id": "8c7a82b8",
   "metadata": {},
   "outputs": [],
   "source": [
    "# it centers and scales the data, both with single function\n",
    "scaled_data = preprocessing.scale(data)"
   ]
  },
  {
   "cell_type": "code",
   "execution_count": 27,
   "id": "3f2e9e49",
   "metadata": {},
   "outputs": [
    {
     "data": {
      "text/plain": [
       "(928, 37)"
      ]
     },
     "execution_count": 27,
     "metadata": {},
     "output_type": "execute_result"
    }
   ],
   "source": [
    "scaled_data.shape"
   ]
  },
  {
   "cell_type": "code",
   "execution_count": 28,
   "id": "4a73c3ab",
   "metadata": {},
   "outputs": [],
   "source": [
    "pca = PCA()\n",
    "# this is where we calculate stuff\n",
    "# i.e. loading data and variation for each principle component \n",
    "pca.fit(scaled_data)\n",
    "\n",
    "pca_data = pca.transform(scaled_data)"
   ]
  },
  {
   "cell_type": "code",
   "execution_count": 29,
   "id": "9e95ee0f",
   "metadata": {},
   "outputs": [
    {
     "name": "stdout",
     "output_type": "stream",
     "text": [
      "37\n"
     ]
    },
    {
     "data": {
      "image/png": "[encoded data removed]",
      "text/plain": [
       "<Figure size 640x480 with 1 Axes>"
      ]
     },
     "metadata": {},
     "output_type": "display_data"
    }
   ],
   "source": [
    "per_var = np.round(pca.explained_variance_ratio_ * 100, decimals=1)\n",
    "print(len(per_var))\n",
    "\n",
    "labels = [\"PC\" + str(x) for x in range(1, len(per_var) + 1)]\n",
    "\n",
    "plt.bar(x=range(1, len(per_var) + 1), width=0.5, height=per_var, tick_label=labels)\n",
    "plt.ylabel(\"Percentage of Explained Variance\")\n",
    "plt.xlabel(\"Principal Component\")\n",
    "plt.title(\"Scree Plot\")\n",
    "plt.show()"
   ]
  },
  {
   "cell_type": "code",
   "execution_count": 31,
   "id": "72240825",
   "metadata": {},
   "outputs": [
    {
     "data": {
      "text/plain": [
       "0              downy_mildew0\n",
       "1              downy_mildew1\n",
       "2              downy_mildew2\n",
       "3              downy_mildew3\n",
       "4              downy_mildew4\n",
       "               ...          \n",
       "923    septoria_leaf_spot923\n",
       "924    septoria_leaf_spot924\n",
       "925    septoria_leaf_spot925\n",
       "926    septoria_leaf_spot926\n",
       "927    septoria_leaf_spot927\n",
       "Name: label, Length: 928, dtype: object"
      ]
     },
     "execution_count": 31,
     "metadata": {},
     "output_type": "execute_result"
    }
   ],
   "source": [
    "for i in range(len(indexs)):\n",
    "    indexs[i] = indexs[i] + f\"{i}\"\n",
    "\n",
    "indexs"
   ]
  },
  {
   "cell_type": "code",
   "execution_count": 34,
   "id": "f4fb1cb0",
   "metadata": {},
   "outputs": [
    {
     "data": {
      "image/png": "[encoded data removed]",
      "text/plain": [
       "<Figure size 640x480 with 1 Axes>"
      ]
     },
     "metadata": {},
     "output_type": "display_data"
    }
   ],
   "source": [
    "pca_df = pd.DataFrame(pca_data, index=[*indexs], columns=labels)\n",
    "\n",
    "plt.scatter(pca_df.PC1, pca_df.PC2)\n",
    "plt.title(\"My PCA Graph\")\n",
    "plt.xlabel(\"PC1 - {0}%\".format(per_var[0]))\n",
    "plt.ylabel(\"PC2 - {0}%\".format(per_var[1]))\n",
    "\n",
    "# for sample in pca_df.index:\n",
    "#     plt.annotate(sample, (pca_df.PC1.loc[sample], pca_df.PC2.loc[sample]))\n",
    "\n",
    "plt.show()"
   ]
  },
  {
   "cell_type": "code",
   "execution_count": 41,
   "id": "b2b081ff",
   "metadata": {},
   "outputs": [
    {
     "name": "stdout",
     "output_type": "stream",
     "text": [
      "homogen_4                  0.215450\n",
      "homogen_1                  0.215271\n",
      "homogen_5                  0.213450\n",
      "homogen_2                  0.213274\n",
      "homogen_3                  0.212085\n",
      "homogen_6                  0.211788\n",
      "dis_sim_6                 -0.209718\n",
      "dis_sim_3                 -0.204689\n",
      "energy_3                   0.203743\n",
      "energy_6                   0.203729\n",
      "energy_2                   0.203710\n",
      "energy_5                   0.203710\n",
      "energy_4                   0.203668\n",
      "energy_1                   0.203650\n",
      "dis_sim_5                 -0.203411\n",
      "dis_sim_2                 -0.200732\n",
      "dis_sim_4                 -0.194281\n",
      "dis_sim_1                 -0.188108\n",
      "contrast_6                -0.164968\n",
      "contrast_5                -0.161702\n",
      "perimeter_to_area_ratio    0.155836\n",
      "contrast_3                -0.154984\n",
      "contrast_2                -0.154974\n",
      "contrast_4                -0.152572\n",
      "contrast_1                -0.141765\n",
      "dtype: float64\n"
     ]
    }
   ],
   "source": [
    "loading_scores = pd.Series(pca.components_[0], index=data.columns)\n",
    "sorted_loading_scores = loading_scores.abs().sort_values(ascending=False)\n",
    "\n",
    "top_10_features = sorted_loading_scores[0: 25].index.values\n",
    "\n",
    "print(loading_scores[top_10_features])"
   ]
  },
  {
   "cell_type": "code",
   "execution_count": null,
   "id": "2d8492ac",
   "metadata": {},
   "outputs": [],
   "source": []
  }
 ],
 "metadata": {
  "kernelspec": {
   "display_name": ".venv",
   "language": "python",
   "name": "python3"
  },
  "language_info": {
   "codemirror_mode": {
    "name": "ipython",
    "version": 3
   },
   "file_extension": ".py",
   "mimetype": "text/x-python",
   "name": "python",
   "nbconvert_exporter": "python",
   "pygments_lexer": "ipython3",
   "version": "3.13.0"
  }
 },
 "nbformat": 4,
 "nbformat_minor": 5
}
